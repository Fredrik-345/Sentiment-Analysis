{
 "cells": [
  {
   "cell_type": "code",
   "execution_count": 175,
   "id": "5ae91f30",
   "metadata": {},
   "outputs": [],
   "source": [
    "import pandas as pd\n",
    "import numpy as np\n"
   ]
  },
  {
   "cell_type": "code",
   "execution_count": 176,
   "id": "61631789",
   "metadata": {},
   "outputs": [
    {
     "data": {
      "text/html": [
       "<div>\n",
       "<style scoped>\n",
       "    .dataframe tbody tr th:only-of-type {\n",
       "        vertical-align: middle;\n",
       "    }\n",
       "\n",
       "    .dataframe tbody tr th {\n",
       "        vertical-align: top;\n",
       "    }\n",
       "\n",
       "    .dataframe thead th {\n",
       "        text-align: right;\n",
       "    }\n",
       "</style>\n",
       "<table border=\"1\" class=\"dataframe\">\n",
       "  <thead>\n",
       "    <tr style=\"text-align: right;\">\n",
       "      <th></th>\n",
       "      <th>id</th>\n",
       "      <th>Text</th>\n",
       "    </tr>\n",
       "  </thead>\n",
       "  <tbody>\n",
       "    <tr>\n",
       "      <th>0</th>\n",
       "      <td>0</td>\n",
       "      <td>I'm worried about the impact of panic on my re...</td>\n",
       "    </tr>\n",
       "    <tr>\n",
       "      <th>1</th>\n",
       "      <td>1</td>\n",
       "      <td>Trying to maintain my equilibrium when emotion...</td>\n",
       "    </tr>\n",
       "    <tr>\n",
       "      <th>2</th>\n",
       "      <td>2</td>\n",
       "      <td>Feeling like I'm in a constant struggle to fin...</td>\n",
       "    </tr>\n",
       "    <tr>\n",
       "      <th>3</th>\n",
       "      <td>3</td>\n",
       "      <td>I'm quick to dismiss others' opinions as less ...</td>\n",
       "    </tr>\n",
       "    <tr>\n",
       "      <th>4</th>\n",
       "      <td>4</td>\n",
       "      <td>I hate the person I become when I'm consumed b...</td>\n",
       "    </tr>\n",
       "  </tbody>\n",
       "</table>\n",
       "</div>"
      ],
      "text/plain": [
       "   id                                               Text\n",
       "0   0  I'm worried about the impact of panic on my re...\n",
       "1   1  Trying to maintain my equilibrium when emotion...\n",
       "2   2  Feeling like I'm in a constant struggle to fin...\n",
       "3   3  I'm quick to dismiss others' opinions as less ...\n",
       "4   4  I hate the person I become when I'm consumed b..."
      ]
     },
     "execution_count": 176,
     "metadata": {},
     "output_type": "execute_result"
    }
   ],
   "source": [
    "df = pd.read_csv(r\"B:\\Machine Learning Projects\\Sentiment Analysis(NLP)\\test.csv\")\n",
    "df.head(5)"
   ]
  },
  {
   "cell_type": "code",
   "execution_count": 177,
   "id": "20c89eaf",
   "metadata": {},
   "outputs": [
    {
     "data": {
      "text/plain": [
       "(243, 2)"
      ]
     },
     "execution_count": 177,
     "metadata": {},
     "output_type": "execute_result"
    }
   ],
   "source": [
    "df.shape"
   ]
  },
  {
   "cell_type": "markdown",
   "id": "a97bb27f",
   "metadata": {},
   "source": [
    "## Data Cleaning"
   ]
  },
  {
   "cell_type": "code",
   "execution_count": 178,
   "id": "23a46848",
   "metadata": {},
   "outputs": [
    {
     "name": "stderr",
     "output_type": "stream",
     "text": [
      "[nltk_data] Downloading package stopwords to\n",
      "[nltk_data]     C:\\Users\\snaps\\AppData\\Roaming\\nltk_data...\n",
      "[nltk_data]   Package stopwords is already up-to-date!\n"
     ]
    }
   ],
   "source": [
    "import re   #regular expression\n",
    "import nltk\n",
    "nltk.download(\"stopwords\")\n",
    "\n",
    "from nltk.corpus import stopwords\n",
    "from nltk.stem.porter import PorterStemmer\n",
    "ps = PorterStemmer()\n",
    "all_stopwords = stopwords.words(\"english\")\n",
    "all_stopwords.remove(\"not\")"
   ]
  },
  {
   "cell_type": "code",
   "execution_count": 179,
   "id": "54b70102",
   "metadata": {},
   "outputs": [],
   "source": [
    "corpus=[]\n",
    "\n",
    "for i in range(0,243):\n",
    "    text = re.sub(\"[^a-zA-Z]\", \" \", df[\"Text\"][i])\n",
    "    text = text.lower()\n",
    "    text = text.split()\n",
    "    text = [ps.stem(word) for word in text if not word in set(all_stopwords)]\n",
    "    text= \" \".join(text)\n",
    "    corpus.append(text)"
   ]
  },
  {
   "cell_type": "markdown",
   "id": "1f0189a1",
   "metadata": {},
   "source": [
    "## Data Transformation"
   ]
  },
  {
   "cell_type": "code",
   "execution_count": 180,
   "id": "170ab8a9",
   "metadata": {},
   "outputs": [],
   "source": [
    "from sklearn.feature_extraction.text import CountVectorizer\n",
    "import pickle\n",
    "new_path = \"B:\\Machine Learning Projects\\Sentiment Analysis(NLP)\\sentiments_words.pkl\"\n",
    "cv= pickle.load(open(new_path, \"rb\"))"
   ]
  },
  {
   "cell_type": "code",
   "execution_count": 181,
   "id": "15e3f2ec",
   "metadata": {},
   "outputs": [
    {
     "data": {
      "text/plain": [
       "(243, 834)"
      ]
     },
     "execution_count": 181,
     "metadata": {},
     "output_type": "execute_result"
    }
   ],
   "source": [
    "x_fresh = cv.transform(corpus).toarray()\n",
    "x_fresh.shape"
   ]
  },
  {
   "cell_type": "markdown",
   "id": "003a84f6",
   "metadata": {},
   "source": [
    "## Predictions"
   ]
  },
  {
   "cell_type": "code",
   "execution_count": 182,
   "id": "da445617",
   "metadata": {},
   "outputs": [],
   "source": [
    "import joblib\n",
    "classifier =joblib.load('B:\\Machine Learning Projects\\Sentiment Analysis(NLP)\\classifier_sentiment_model') "
   ]
  },
  {
   "cell_type": "code",
   "execution_count": 183,
   "id": "6505445a",
   "metadata": {},
   "outputs": [
    {
     "name": "stdout",
     "output_type": "stream",
     "text": [
      "['Panic Disorder' 'Anger/ Intermittent Explosive Disorder' 'Depression'\n",
      " 'Narcissistic Disorder' 'Anger/ Intermittent Explosive Disorder'\n",
      " 'Depression' 'Narcissistic Disorder'\n",
      " 'Anger/ Intermittent Explosive Disorder' 'Panic Disorder'\n",
      " 'Narcissistic Disorder' 'Depression' 'Anxiety Disorder'\n",
      " 'Anger/ Intermittent Explosive Disorder' 'Panic Disorder'\n",
      " 'Narcissistic Disorder' 'Panic Disorder'\n",
      " 'Anger/ Intermittent Explosive Disorder' 'Panic Disorder' 'Depression'\n",
      " 'Panic Disorder' 'Anxiety Disorder' 'Depression'\n",
      " 'Anger/ Intermittent Explosive Disorder' 'Depression' 'Anxiety Disorder'\n",
      " 'Anger/ Intermittent Explosive Disorder' 'Depression' 'Panic Disorder'\n",
      " 'Panic Disorder' 'Anger/ Intermittent Explosive Disorder'\n",
      " 'Narcissistic Disorder' 'Anger/ Intermittent Explosive Disorder'\n",
      " 'Narcissistic Disorder' 'Panic Disorder' 'Depression' 'Depression'\n",
      " 'Anger/ Intermittent Explosive Disorder' 'Depression'\n",
      " 'Narcissistic Disorder' 'Anger/ Intermittent Explosive Disorder'\n",
      " 'Narcissistic Disorder' 'Anxiety Disorder' 'Panic Disorder'\n",
      " 'Anger/ Intermittent Explosive Disorder' 'Depression' 'Depression'\n",
      " 'Anger/ Intermittent Explosive Disorder' 'Panic Disorder'\n",
      " 'Narcissistic Disorder' 'Depression'\n",
      " 'Anger/ Intermittent Explosive Disorder' 'Narcissistic Disorder'\n",
      " 'Depression' 'Depression' 'Depression' 'Anxiety Disorder'\n",
      " 'Narcissistic Disorder' 'Narcissistic Disorder'\n",
      " 'Anger/ Intermittent Explosive Disorder' 'Anxiety Disorder'\n",
      " 'Narcissistic Disorder' 'Anger/ Intermittent Explosive Disorder'\n",
      " 'Anxiety Disorder' 'Anxiety Disorder' 'Depression' 'Depression'\n",
      " 'Narcissistic Disorder' 'Depression' 'Depression' 'Depression'\n",
      " 'Depression' 'Depression' 'Depression' 'Panic Disorder' 'Panic Disorder'\n",
      " 'Narcissistic Disorder' 'Panic Disorder' 'Panic Disorder'\n",
      " 'Narcissistic Disorder' 'Depression'\n",
      " 'Anger/ Intermittent Explosive Disorder' 'Anxiety Disorder'\n",
      " 'Anxiety Disorder' 'Anger/ Intermittent Explosive Disorder'\n",
      " 'Panic Disorder' 'Narcissistic Disorder' 'Anxiety Disorder'\n",
      " 'Anger/ Intermittent Explosive Disorder' 'Narcissistic Disorder'\n",
      " 'Depression' 'Depression' 'Narcissistic Disorder' 'Depression'\n",
      " 'Anxiety Disorder' 'Narcissistic Disorder' 'Depression'\n",
      " 'Anxiety Disorder' 'Panic Disorder' 'Depression' 'Depression'\n",
      " 'Narcissistic Disorder' 'Anger/ Intermittent Explosive Disorder'\n",
      " 'Narcissistic Disorder' 'Anxiety Disorder' 'Depression'\n",
      " 'Narcissistic Disorder' 'Anxiety Disorder' 'Depression' 'Panic Disorder'\n",
      " 'Narcissistic Disorder' 'Panic Disorder'\n",
      " 'Anger/ Intermittent Explosive Disorder' 'Anxiety Disorder' 'Depression'\n",
      " 'Narcissistic Disorder' 'Anger/ Intermittent Explosive Disorder'\n",
      " 'Narcissistic Disorder' 'Anger/ Intermittent Explosive Disorder'\n",
      " 'Anger/ Intermittent Explosive Disorder' 'Anxiety Disorder'\n",
      " 'Anxiety Disorder' 'Anger/ Intermittent Explosive Disorder'\n",
      " 'Anxiety Disorder' 'Anxiety Disorder'\n",
      " 'Anger/ Intermittent Explosive Disorder'\n",
      " 'Anger/ Intermittent Explosive Disorder' 'Depression' 'Anxiety Disorder'\n",
      " 'Anxiety Disorder' 'Anxiety Disorder' 'Anxiety Disorder'\n",
      " 'Anger/ Intermittent Explosive Disorder' 'Panic Disorder'\n",
      " 'Narcissistic Disorder' 'Anger/ Intermittent Explosive Disorder'\n",
      " 'Depression' 'Narcissistic Disorder' 'Anxiety Disorder'\n",
      " 'Anxiety Disorder' 'Depression' 'Narcissistic Disorder' 'Depression'\n",
      " 'Anxiety Disorder' 'Panic Disorder' 'Anxiety Disorder'\n",
      " 'Anger/ Intermittent Explosive Disorder' 'Narcissistic Disorder'\n",
      " 'Panic Disorder' 'Depression' 'Anxiety Disorder'\n",
      " 'Anger/ Intermittent Explosive Disorder' 'Panic Disorder'\n",
      " 'Anxiety Disorder' 'Anger/ Intermittent Explosive Disorder' 'Depression'\n",
      " 'Panic Disorder' 'Depression' 'Depression'\n",
      " 'Anger/ Intermittent Explosive Disorder' 'Depression' 'Panic Disorder'\n",
      " 'Panic Disorder' 'Depression' 'Depression' 'Panic Disorder'\n",
      " 'Anxiety Disorder' 'Anger/ Intermittent Explosive Disorder' 'Depression'\n",
      " 'Anxiety Disorder' 'Anger/ Intermittent Explosive Disorder'\n",
      " 'Anger/ Intermittent Explosive Disorder' 'Depression' 'Anxiety Disorder'\n",
      " 'Depression' 'Depression' 'Anger/ Intermittent Explosive Disorder'\n",
      " 'Anger/ Intermittent Explosive Disorder' 'Anxiety Disorder' 'Depression'\n",
      " 'Anger/ Intermittent Explosive Disorder' 'Depression' 'Depression'\n",
      " 'Panic Disorder' 'Panic Disorder' 'Narcissistic Disorder'\n",
      " 'Anxiety Disorder' 'Anger/ Intermittent Explosive Disorder'\n",
      " 'Anger/ Intermittent Explosive Disorder' 'Anxiety Disorder'\n",
      " 'Narcissistic Disorder' 'Panic Disorder' 'Depression'\n",
      " 'Anger/ Intermittent Explosive Disorder' 'Panic Disorder'\n",
      " 'Narcissistic Disorder' 'Panic Disorder' 'Panic Disorder' 'Depression'\n",
      " 'Depression' 'Depression' 'Narcissistic Disorder' 'Panic Disorder'\n",
      " 'Anger/ Intermittent Explosive Disorder'\n",
      " 'Anger/ Intermittent Explosive Disorder' 'Anxiety Disorder'\n",
      " 'Panic Disorder' 'Anxiety Disorder' 'Anxiety Disorder'\n",
      " 'Narcissistic Disorder' 'Anger/ Intermittent Explosive Disorder'\n",
      " 'Anxiety Disorder' 'Narcissistic Disorder' 'Depression'\n",
      " 'Narcissistic Disorder' 'Depression'\n",
      " 'Anger/ Intermittent Explosive Disorder' 'Anxiety Disorder' 'Depression'\n",
      " 'Depression' 'Depression' 'Narcissistic Disorder' 'Panic Disorder'\n",
      " 'Anger/ Intermittent Explosive Disorder' 'Depression' 'Depression'\n",
      " 'Anxiety Disorder' 'Depression' 'Anxiety Disorder'\n",
      " 'Anger/ Intermittent Explosive Disorder' 'Anxiety Disorder' 'Depression'\n",
      " 'Narcissistic Disorder' 'Depression' 'Panic Disorder' 'Anxiety Disorder'\n",
      " 'Panic Disorder' 'Depression' 'Panic Disorder' 'Anxiety Disorder'\n",
      " 'Narcissistic Disorder' 'Anxiety Disorder' 'Panic Disorder' 'Depression']\n"
     ]
    }
   ],
   "source": [
    "y_pred = classifier.predict(x_fresh)\n",
    "print(y_pred)"
   ]
  },
  {
   "cell_type": "code",
   "execution_count": 184,
   "id": "9b5d6b9f",
   "metadata": {},
   "outputs": [
    {
     "data": {
      "text/html": [
       "<div>\n",
       "<style scoped>\n",
       "    .dataframe tbody tr th:only-of-type {\n",
       "        vertical-align: middle;\n",
       "    }\n",
       "\n",
       "    .dataframe tbody tr th {\n",
       "        vertical-align: top;\n",
       "    }\n",
       "\n",
       "    .dataframe thead th {\n",
       "        text-align: right;\n",
       "    }\n",
       "</style>\n",
       "<table border=\"1\" class=\"dataframe\">\n",
       "  <thead>\n",
       "    <tr style=\"text-align: right;\">\n",
       "      <th></th>\n",
       "      <th>id</th>\n",
       "      <th>Text</th>\n",
       "      <th>label</th>\n",
       "    </tr>\n",
       "  </thead>\n",
       "  <tbody>\n",
       "    <tr>\n",
       "      <th>0</th>\n",
       "      <td>0</td>\n",
       "      <td>I'm worried about the impact of panic on my re...</td>\n",
       "      <td>Panic Disorder</td>\n",
       "    </tr>\n",
       "    <tr>\n",
       "      <th>1</th>\n",
       "      <td>1</td>\n",
       "      <td>Trying to maintain my equilibrium when emotion...</td>\n",
       "      <td>Anger/ Intermittent Explosive Disorder</td>\n",
       "    </tr>\n",
       "    <tr>\n",
       "      <th>2</th>\n",
       "      <td>2</td>\n",
       "      <td>Feeling like I'm in a constant struggle to fin...</td>\n",
       "      <td>Depression</td>\n",
       "    </tr>\n",
       "    <tr>\n",
       "      <th>3</th>\n",
       "      <td>3</td>\n",
       "      <td>I'm quick to dismiss others' opinions as less ...</td>\n",
       "      <td>Narcissistic Disorder</td>\n",
       "    </tr>\n",
       "    <tr>\n",
       "      <th>4</th>\n",
       "      <td>4</td>\n",
       "      <td>I hate the person I become when I'm consumed b...</td>\n",
       "      <td>Anger/ Intermittent Explosive Disorder</td>\n",
       "    </tr>\n",
       "  </tbody>\n",
       "</table>\n",
       "</div>"
      ],
      "text/plain": [
       "   id                                               Text  \\\n",
       "0   0  I'm worried about the impact of panic on my re...   \n",
       "1   1  Trying to maintain my equilibrium when emotion...   \n",
       "2   2  Feeling like I'm in a constant struggle to fin...   \n",
       "3   3  I'm quick to dismiss others' opinions as less ...   \n",
       "4   4  I hate the person I become when I'm consumed b...   \n",
       "\n",
       "                                    label  \n",
       "0                          Panic Disorder  \n",
       "1  Anger/ Intermittent Explosive Disorder  \n",
       "2                              Depression  \n",
       "3                   Narcissistic Disorder  \n",
       "4  Anger/ Intermittent Explosive Disorder  "
      ]
     },
     "execution_count": 184,
     "metadata": {},
     "output_type": "execute_result"
    }
   ],
   "source": [
    "df[\"label\"] = y_pred.tolist()\n",
    "df.head(5)"
   ]
  },
  {
   "cell_type": "code",
   "execution_count": 185,
   "id": "b3e73107",
   "metadata": {},
   "outputs": [],
   "source": [
    "df = df.drop([\"Text\"],axis=\"columns\")"
   ]
  },
  {
   "cell_type": "code",
   "execution_count": 186,
   "id": "933cb42c",
   "metadata": {},
   "outputs": [
    {
     "data": {
      "text/html": [
       "<div>\n",
       "<style scoped>\n",
       "    .dataframe tbody tr th:only-of-type {\n",
       "        vertical-align: middle;\n",
       "    }\n",
       "\n",
       "    .dataframe tbody tr th {\n",
       "        vertical-align: top;\n",
       "    }\n",
       "\n",
       "    .dataframe thead th {\n",
       "        text-align: right;\n",
       "    }\n",
       "</style>\n",
       "<table border=\"1\" class=\"dataframe\">\n",
       "  <thead>\n",
       "    <tr style=\"text-align: right;\">\n",
       "      <th></th>\n",
       "      <th>id</th>\n",
       "      <th>label</th>\n",
       "    </tr>\n",
       "  </thead>\n",
       "  <tbody>\n",
       "    <tr>\n",
       "      <th>0</th>\n",
       "      <td>0</td>\n",
       "      <td>Panic Disorder</td>\n",
       "    </tr>\n",
       "    <tr>\n",
       "      <th>1</th>\n",
       "      <td>1</td>\n",
       "      <td>Anger/ Intermittent Explosive Disorder</td>\n",
       "    </tr>\n",
       "    <tr>\n",
       "      <th>2</th>\n",
       "      <td>2</td>\n",
       "      <td>Depression</td>\n",
       "    </tr>\n",
       "    <tr>\n",
       "      <th>3</th>\n",
       "      <td>3</td>\n",
       "      <td>Narcissistic Disorder</td>\n",
       "    </tr>\n",
       "    <tr>\n",
       "      <th>4</th>\n",
       "      <td>4</td>\n",
       "      <td>Anger/ Intermittent Explosive Disorder</td>\n",
       "    </tr>\n",
       "  </tbody>\n",
       "</table>\n",
       "</div>"
      ],
      "text/plain": [
       "   id                                   label\n",
       "0   0                          Panic Disorder\n",
       "1   1  Anger/ Intermittent Explosive Disorder\n",
       "2   2                              Depression\n",
       "3   3                   Narcissistic Disorder\n",
       "4   4  Anger/ Intermittent Explosive Disorder"
      ]
     },
     "execution_count": 186,
     "metadata": {},
     "output_type": "execute_result"
    }
   ],
   "source": [
    "df.head(5)"
   ]
  },
  {
   "cell_type": "code",
   "execution_count": 188,
   "id": "6f6cc8ee",
   "metadata": {},
   "outputs": [],
   "source": [
    "df.to_csv(r\"B:\\Machine Learning Projects\\Sentiment Analysis(NLP)\\new_model5.csv\",sep=\"\\t\", encoding=\"UTF-8\" ,index=False)"
   ]
  },
  {
   "cell_type": "code",
   "execution_count": null,
   "id": "95c79723",
   "metadata": {},
   "outputs": [],
   "source": []
  },
  {
   "cell_type": "code",
   "execution_count": null,
   "id": "0bc7bb64",
   "metadata": {},
   "outputs": [],
   "source": []
  },
  {
   "cell_type": "code",
   "execution_count": null,
   "id": "a2019d96",
   "metadata": {},
   "outputs": [],
   "source": []
  },
  {
   "cell_type": "code",
   "execution_count": null,
   "id": "2a8e3639",
   "metadata": {},
   "outputs": [],
   "source": []
  },
  {
   "cell_type": "code",
   "execution_count": null,
   "id": "b1946005",
   "metadata": {},
   "outputs": [],
   "source": []
  }
 ],
 "metadata": {
  "kernelspec": {
   "display_name": "Python 3 (ipykernel)",
   "language": "python",
   "name": "python3"
  },
  "language_info": {
   "codemirror_mode": {
    "name": "ipython",
    "version": 3
   },
   "file_extension": ".py",
   "mimetype": "text/x-python",
   "name": "python",
   "nbconvert_exporter": "python",
   "pygments_lexer": "ipython3",
   "version": "3.10.9"
  }
 },
 "nbformat": 4,
 "nbformat_minor": 5
}
